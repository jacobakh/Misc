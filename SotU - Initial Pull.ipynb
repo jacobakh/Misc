{
 "cells": [
  {
   "cell_type": "markdown",
   "metadata": {},
   "source": [
    "# State of the Union Analysis"
   ]
  },
  {
   "cell_type": "markdown",
   "metadata": {},
   "source": [
    "With the 2020 U.S. presidential campaign around the corner, I feeling rather political and thought I'd re-visit a project I had completed in my Data Science course I had completed a few years prior.\n",
    "\n",
    "This time I wanted to add a twist on my work and include some cool data visualizations."
   ]
  },
  {
   "cell_type": "code",
   "execution_count": 2,
   "metadata": {
    "collapsed": true
   },
   "outputs": [],
   "source": [
    "%matplotlib inline\n",
    "import matplotlib.pyplot as plt\n",
    "import numpy as np\n",
    "import pandas as pd\n",
    "import seaborn as sns\n",
    "import datetime\n",
    "import shelve\n",
    "import re #for string splitting\n",
    "\n",
    "plt.style.use('seaborn-dark')\n",
    "sns.set_style('whitegrid')\n",
    "plt.rcParams['figure.figsize'] = (10, 6)\n"
   ]
  },
  {
   "cell_type": "code",
   "execution_count": 3,
   "metadata": {
    "collapsed": true
   },
   "outputs": [],
   "source": [
    "speech_metadata = pd.DataFrame(columns = ['President', 'Speech', 'Date', 'Date (String)'])\n",
    "\n",
    "def read_speech_meta(string): \n",
    "    vals = string.split(',')\n",
    "    d = {}\n",
    "    d['President'] = vals[0].strip()\n",
    "    d['Speech'] = vals[1].strip()\n",
    "    date_string = (vals[2] + vals[3]).strip()\n",
    "    d['Date'] = datetime.datetime.strptime(date_string, '%B %d %Y')\n",
    "    d['Date (String)'] = date_string\n",
    "    return d\n",
    "\n",
    "'''Custom function designed to read a list of strings that contain \n",
    "the speech name, speaker, and date corresponding to a Presidential speech.\n",
    "Example: ['State of the Union Address', 'George Washington', 'January 8, 1790']'''\n",
    "\n",
    "def read_speech_meta_list(str_list): \n",
    "    d = {}\n",
    "    d['President'] = str_list[0].strip()\n",
    "    d['Speech'] = str_list[1].strip()\n",
    "    date_string = (str_list[2] + str_list[3]).strip()\n",
    "    d['Date'] = datetime.datetime.strptime(date_string, '%B %d, %Y')\n",
    "    d['Date (String)'] = date_string\n",
    "    return d\n",
    "\n",
    "SEPARATORS = '[\\'\\\":\\n\\t,-.()%$;?!@#$^&_+=<>/\\{}\\[\\] ]'\n",
    "\n",
    "'''Removes all occurrences of the empty string from a list of strings'''\n",
    "def remove_empty_strings(list_of_strings): \n",
    "    return list(filter(lambda elem: elem != '', list_of_strings)) \n",
    "\n",
    "'''Splits lines according to the SEPARATORS above and the python regex package.\n",
    "Returns a list of all the words in the speech, with repeats.'''\n",
    "def split_text_lines(list_of_lines): \n",
    "    all_words_with_repeats = []\n",
    "    for line in list_of_lines: \n",
    "        split_line = remove_empty_strings(re.split(SEPARATORS, line))\n",
    "        all_words_with_repeats += split_line\n",
    "    return all_words_with_repeats\n",
    "\n",
    "'''Returns a dictionary whose keys are POSSIBLE_WORDS. The value at each key \n",
    "is an integer which is the number of occurrences of that word in WORD_OCURRENCE_LIST'''\n",
    "def word_count_dict(possible_words, word_occurrence_list): \n",
    "    count_dict = dict.fromkeys(possible_words, 0)\n",
    "    for word in word_occurrence_list: \n",
    "        count_dict[word] += 1 \n",
    "    return count_dict\n"
   ]
  },
  {
   "cell_type": "code",
   "execution_count": 4,
   "metadata": {
    "collapsed": true
   },
   "outputs": [],
   "source": [
    "\n",
    "'''In this cell, we read the meta-data of the speeches and store it in a dataframe.'''\n",
    "\n",
    "addresses_df = pd.DataFrame(index=['President', 'Speech', 'Date', 'Date (String)'])\n",
    "# addresses_df = addresses_df.fillna(0)\n",
    "# addresses_df = addresses_df.dropna()\n",
    "\n",
    "with open('data/stateoftheunion1790-2017.txt', 'r') as g:\n",
    "    txt_file_chunks = g.read().split('***') \n",
    "    meta = txt_file_chunks[0].split('\\n') #f[0] is the metadata entry. split by line. \n",
    "    contents_index = meta.index('CONTENTS') #get the index of the line that indicates the beginning of contents.\n",
    "    meta = remove_empty_strings(meta[contents_index + 2:])\n",
    "    for line in meta: \n",
    "        new_series = pd.Series(read_speech_meta(line))\n",
    "        addresses_df = addresses_df.append(new_series, ignore_index=True)\n",
    "# addresses_df = addresses_df.drop(labels=[0, 1, 2, 3])\n",
    "addresses_df.dropna(inplace=True)\n",
    "addresses_df.reset_index(drop=True, inplace=True)"
   ]
  },
  {
   "cell_type": "code",
   "execution_count": 6,
   "metadata": {
    "collapsed": true
   },
   "outputs": [],
   "source": [
    "'''Function to convert Date string in CSV file to Datetime object.\n",
    "In Pandas, this is a Timestamp object.'''\n",
    "str_to_date = lambda date_str: datetime.datetime.strptime(date_str, '%Y-%m-%d %H:%M:%S')\n"
   ]
  },
  {
   "cell_type": "code",
   "execution_count": 7,
   "metadata": {},
   "outputs": [
    {
     "data": {
      "text/html": [
       "<div>\n",
       "<style scoped>\n",
       "    .dataframe tbody tr th:only-of-type {\n",
       "        vertical-align: middle;\n",
       "    }\n",
       "\n",
       "    .dataframe tbody tr th {\n",
       "        vertical-align: top;\n",
       "    }\n",
       "\n",
       "    .dataframe thead th {\n",
       "        text-align: right;\n",
       "    }\n",
       "</style>\n",
       "<table border=\"1\" class=\"dataframe\">\n",
       "  <thead>\n",
       "    <tr style=\"text-align: right;\">\n",
       "      <th></th>\n",
       "      <th>Date</th>\n",
       "      <th>Date (String)</th>\n",
       "      <th>President</th>\n",
       "      <th>Speech</th>\n",
       "    </tr>\n",
       "  </thead>\n",
       "  <tbody>\n",
       "    <tr>\n",
       "      <th>count</th>\n",
       "      <td>227</td>\n",
       "      <td>227</td>\n",
       "      <td>227</td>\n",
       "      <td>227</td>\n",
       "    </tr>\n",
       "    <tr>\n",
       "      <th>unique</th>\n",
       "      <td>227</td>\n",
       "      <td>227</td>\n",
       "      <td>42</td>\n",
       "      <td>4</td>\n",
       "    </tr>\n",
       "    <tr>\n",
       "      <th>top</th>\n",
       "      <td>1976-01-19 00:00:00</td>\n",
       "      <td>December 4 1917</td>\n",
       "      <td>Franklin D. Roosevelt</td>\n",
       "      <td>State of the Union Address</td>\n",
       "    </tr>\n",
       "    <tr>\n",
       "      <th>freq</th>\n",
       "      <td>1</td>\n",
       "      <td>1</td>\n",
       "      <td>12</td>\n",
       "      <td>222</td>\n",
       "    </tr>\n",
       "    <tr>\n",
       "      <th>first</th>\n",
       "      <td>1790-01-08 00:00:00</td>\n",
       "      <td>NaN</td>\n",
       "      <td>NaN</td>\n",
       "      <td>NaN</td>\n",
       "    </tr>\n",
       "    <tr>\n",
       "      <th>last</th>\n",
       "      <td>2017-02-27 00:00:00</td>\n",
       "      <td>NaN</td>\n",
       "      <td>NaN</td>\n",
       "      <td>NaN</td>\n",
       "    </tr>\n",
       "  </tbody>\n",
       "</table>\n",
       "</div>"
      ],
      "text/plain": [
       "                       Date    Date (String)              President  \\\n",
       "count                   227              227                    227   \n",
       "unique                  227              227                     42   \n",
       "top     1976-01-19 00:00:00  December 4 1917  Franklin D. Roosevelt   \n",
       "freq                      1                1                     12   \n",
       "first   1790-01-08 00:00:00              NaN                    NaN   \n",
       "last    2017-02-27 00:00:00              NaN                    NaN   \n",
       "\n",
       "                            Speech  \n",
       "count                          227  \n",
       "unique                           4  \n",
       "top     State of the Union Address  \n",
       "freq                           222  \n",
       "first                          NaN  \n",
       "last                           NaN  "
      ]
     },
     "execution_count": 7,
     "metadata": {},
     "output_type": "execute_result"
    }
   ],
   "source": [
    "addresses_df.describe()\n"
   ]
  },
  {
   "cell_type": "code",
   "execution_count": 8,
   "metadata": {},
   "outputs": [
    {
     "name": "stdout",
     "output_type": "stream",
     "text": [
      "Date of first speech:  1790-01-08\n",
      "Date of last speech:  2017-02-27\n",
      "Time between these speeches:  relativedelta(years=+227, months=+1, days=+19)\n"
     ]
    }
   ],
   "source": [
    "from dateutil.relativedelta import relativedelta\n",
    "\n",
    "print('Date of first speech: ', addresses_df['Date'].min().date())\n",
    "print('Date of last speech: ', addresses_df['Date'].max().date())\n",
    "print('Time between these speeches: ', relativedelta(addresses_df['Date'].max().date(), \n",
    "                                                     addresses_df['Date'].min().date()))\n"
   ]
  },
  {
   "cell_type": "code",
   "execution_count": 10,
   "metadata": {},
   "outputs": [
    {
     "name": "stdout",
     "output_type": "stream",
     "text": [
      "January: 75\n",
      "February: 12\n",
      "March: 0\n",
      "April: 0\n",
      "May: 0\n",
      "June: 0\n",
      "July: 0\n",
      "August: 0\n",
      "September: 2\n",
      "October: 3\n",
      "November: 11\n",
      "December: 124\n"
     ]
    }
   ],
   "source": [
    "\n",
    "# This is a count of the number of addresses delivered on any given month\n",
    "# addresses_df['Date'].iloc[0].day\n",
    "import calendar\n",
    "\n",
    "#initialize all counts to 0\n",
    "date_count_dict = {x:0 for x in range(1, 13)}\n",
    "\n",
    "for date in addresses_df['Date']: \n",
    "    date_count_dict[date.month] += 1\n",
    "    \n",
    "#intialize lists to be used in plotting\n",
    "month_names = []\n",
    "month_counts = []\n",
    "\n",
    "#print \n",
    "for month_num in range(1, 13):\n",
    "    name = calendar.month_name[month_num]\n",
    "    count = date_count_dict[month_num]\n",
    "    month_names.append(name)\n",
    "    month_counts.append(count)\n",
    "    print('{}: {}'.format(name, count))"
   ]
  },
  {
   "cell_type": "code",
   "execution_count": 12,
   "metadata": {},
   "outputs": [
    {
     "data": {
      "image/png": "[encoded data removed]",
      "text/plain": [
       "<matplotlib.figure.Figure at 0x1132c3b70>"
      ]
     },
     "metadata": {},
     "output_type": "display_data"
    }
   ],
   "source": [
    "\n",
    "# And this is a plot of these:\n",
    "\n",
    "plt.figure(figsize=(12, 6))\n",
    "\n",
    "y_pos = np.arange(len(month_names))\n",
    "\n",
    "plt.bar(y_pos, month_counts)\n",
    "plt.xticks(y_pos, month_names)\n",
    "plt.ylabel('Number of Speeches in this Month')\n",
    "plt.title('Number of Speeches in each month')\n",
    "#plt.savefig('fig/addresses_month.png');\n",
    "plt.show();"
   ]
  },
  {
   "cell_type": "code",
   "execution_count": null,
   "metadata": {
    "collapsed": true
   },
   "outputs": [],
   "source": []
  }
 ],
 "metadata": {
  "kernelspec": {
   "display_name": "Python 3",
   "language": "python",
   "name": "python3"
  },
  "language_info": {
   "codemirror_mode": {
    "name": "ipython",
    "version": 3
   },
   "file_extension": ".py",
   "mimetype": "text/x-python",
   "name": "python",
   "nbconvert_exporter": "python",
   "pygments_lexer": "ipython3",
   "version": "3.6.1"
  }
 },
 "nbformat": 4,
 "nbformat_minor": 2
}
